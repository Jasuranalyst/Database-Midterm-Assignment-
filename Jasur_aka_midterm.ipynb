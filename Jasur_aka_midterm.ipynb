{
 "cells": [
  {
   "cell_type": "code",
   "execution_count": 1,
   "id": "f8acd25d",
   "metadata": {},
   "outputs": [],
   "source": [
    "import mysql.connector\n",
    "\n",
    "mydb=mysql.connector.connect(host=\"localhost\",user=\"root\",password=\"2001\")\n",
    "\n",
    "mycursor=mydb.cursor()\n",
    "\n",
    "mycursor.execute(\"CREATE DATABASE Database_classdb\")"
   ]
  },
  {
   "cell_type": "code",
   "execution_count": 2,
   "id": "f79ef3d7",
   "metadata": {},
   "outputs": [
    {
     "name": "stdout",
     "output_type": "stream",
     "text": [
      "('database_classdb',)\n",
      "('information_schema',)\n",
      "('itsdb',)\n",
      "('mysql',)\n",
      "('performance_schema',)\n",
      "('sys',)\n"
     ]
    }
   ],
   "source": [
    "mycursor.execute(\"SHOW DATABASES\")\n",
    "for db in mycursor:\n",
    "    print(db)"
   ]
  },
  {
   "cell_type": "code",
   "execution_count": 4,
   "id": "14df7110",
   "metadata": {},
   "outputs": [],
   "source": [
    "mydb=mysql.connector.connect(host=\"localhost\",user=\"root\",password=\"2001\", database=\"Database_classdb\")\n",
    "\n",
    "mycursor=mydb.cursor()\n",
    "mycursor.execute(\"CREATE TABLE drivers(name VARCHAR(100),licenceNumber INTEGER(4))\")"
   ]
  },
  {
   "cell_type": "code",
   "execution_count": 5,
   "id": "2ef6de26",
   "metadata": {},
   "outputs": [],
   "source": [
    "mycursor.execute(\"ALTER TABLE drivers ADD FATL_level INTEGER(2)\")"
   ]
  },
  {
   "cell_type": "code",
   "execution_count": 6,
   "id": "0d7d559d",
   "metadata": {},
   "outputs": [],
   "source": [
    "mycursor.execute(\"ALTER TABLE drivers ADD FATL_date INTEGER(8)\")"
   ]
  },
  {
   "cell_type": "code",
   "execution_count": 8,
   "id": "681bf306",
   "metadata": {},
   "outputs": [],
   "source": [
    "mycursor.execute(\"ALTER TABLE drivers ADD STLVT_level INTEGER(2)\")\n",
    "mycursor.execute(\"ALTER TABLE drivers ADD STLVT_date INTEGER(8)\")\n",
    "mycursor.execute(\"ALTER TABLE drivers ADD STLVT_authority VARCHAR(100)\")"
   ]
  },
  {
   "cell_type": "code",
   "execution_count": 17,
   "id": "01cf58bf",
   "metadata": {},
   "outputs": [],
   "source": [
    "mydb=mysql.connector.connect(host=\"localhost\",user=\"root\",password=\"2001\", database=\"Database_classdb\")\n",
    "\n",
    "mycursor=mydb.cursor()\n",
    "\n",
    "sqlFormual='''INSERT INTO drivers(name,licenceNumber,FATL_level,FATL_date,STLVT_level,STLVT_date,STLVT_authority)\n",
    "VALUES(%s,%s,%s,%s,%s,%s,%s)'''\n",
    "drivers_list=[(\"Yusuf\",3234,5,20061201,5,20101204,\"Localpolice\"),\n",
    "        (\"Jasur\",5748,3,20121001,5,20131107,\"Foreignerpolice\"),\n",
    "        (\"Asliddin\",9008,7,20161201,7,20161104,\"Foreignerpolice\"),\n",
    "        (\"Bahodir\",2222,9,20161201,8,20131214,\"Foreignerpolice\"),\n",
    "        (\"Ali\",9844,5,20201101,4,20161301,\"Localpolice\")]\n",
    "mycursor.executemany(sqlFormual,drivers_list)\n",
    "mydb.commit()\n"
   ]
  },
  {
   "cell_type": "code",
   "execution_count": 20,
   "id": "fc115b19",
   "metadata": {},
   "outputs": [],
   "source": [
    "mycursor=mydb.cursor()\n",
    "mycursor.execute(\"CREATE TABLE vehicels(model VARCHAR(100),color VARCHAR(100))\")"
   ]
  },
  {
   "cell_type": "code",
   "execution_count": 26,
   "id": "d96d7b6e",
   "metadata": {},
   "outputs": [],
   "source": [
    "mycursor.execute(\"ALTER TABLE vehicels ADD cond VARCHAR(10)\")"
   ]
  },
  {
   "cell_type": "code",
   "execution_count": 27,
   "id": "3a4c9e7b",
   "metadata": {},
   "outputs": [],
   "source": [
    "sqlformula='''INSERT INTO vehicels(model,color,cond) VALUES(%s,%s,%s)'''\n",
    "car_list=[('k5','red','M'),\n",
    "         ('k7','white','M'),\n",
    "         ('captiva','black','R'),\n",
    "         ('Nexia','black','M'),\n",
    "         ('Spark','blue','R')]\n",
    "mycursor.executemany(sqlformula,car_list)\n",
    "mydb.commit()"
   ]
  },
  {
   "cell_type": "code",
   "execution_count": 35,
   "id": "b218bc3c",
   "metadata": {},
   "outputs": [],
   "source": [
    "mycursor=mydb.cursor()\n",
    "mycursor.execute(\"CREATE TABLE trip(start INTEGER(10), end INTEGER(10),number INTEGER(10))\")"
   ]
  },
  {
   "cell_type": "code",
   "execution_count": 36,
   "id": "ccbfc7e8",
   "metadata": {},
   "outputs": [],
   "source": [
    "sqlformula='''INSERT INTO trip(start,end,number) VALUES(%s,%s,%s)'''\n",
    "trip_list=[(20221202,20221230,23456),\n",
    "         (20230202,20232230,87496),\n",
    "         (20230102,20230203,98345),\n",
    "         (20230301,20230430,29646),\n",
    "        (20230202,20230230,53450)]\n",
    "mycursor.executemany(sqlformula,trip_list)\n",
    "mydb.commit()"
   ]
  },
  {
   "cell_type": "code",
   "execution_count": 37,
   "id": "9a2b356b",
   "metadata": {},
   "outputs": [],
   "source": [
    "mycursor.execute(\"CREATE TABLE officials(country VARCHAR(100),role VARCHAR(100), lang VARCHAR(100))\")"
   ]
  },
  {
   "cell_type": "code",
   "execution_count": 39,
   "id": "58cf8d30",
   "metadata": {},
   "outputs": [],
   "source": [
    "sqlformula='''INSERT INTO officials(country,role,lang) VALUES(%s,%s,%s)'''\n",
    "officials_list=[('Uzbekistan','Coach','Uzbek'),\n",
    "               ('korea','worker','korean'),\n",
    "               ('USA','Cleaner','english')]\n",
    "mycursor.executemany(sqlformula,officials_list)\n",
    "mydb.commit()"
   ]
  },
  {
   "cell_type": "code",
   "execution_count": null,
   "id": "7dcf6663",
   "metadata": {},
   "outputs": [],
   "source": []
  }
 ],
 "metadata": {
  "kernelspec": {
   "display_name": "Python 3 (ipykernel)",
   "language": "python",
   "name": "python3"
  },
  "language_info": {
   "codemirror_mode": {
    "name": "ipython",
    "version": 3
   },
   "file_extension": ".py",
   "mimetype": "text/x-python",
   "name": "python",
   "nbconvert_exporter": "python",
   "pygments_lexer": "ipython3",
   "version": "3.9.12"
  }
 },
 "nbformat": 4,
 "nbformat_minor": 5
}
